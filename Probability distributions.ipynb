{
 "cells": [
  {
   "cell_type": "markdown",
   "id": "dfae0bf7-8ff5-4847-a65a-db55efe28a47",
   "metadata": {},
   "source": [
    "# Probability Distributions\n",
    "##### A-)Discrete Probability Distributions\n",
    "* Bernoulli  \n",
    "* Binom  \n",
    "* Poisson  \n",
    " \n",
    "##### B-)Continuous Probability Distributions\n",
    "* Normal \n",
    "* Uniform \n",
    "* Exponential"
   ]
  },
  {
   "cell_type": "markdown",
   "id": "557edce4-fb66-4a88-a088-50ff47a1861b",
   "metadata": {},
   "source": [
    "## A-)Discrete Probability Distributions"
   ]
  },
  {
   "cell_type": "markdown",
   "id": "7728c69e-2e5d-4591-b327-d0cd9add7d28",
   "metadata": {},
   "source": [
    "## Bernoulli Distributions"
   ]
  },
  {
   "cell_type": "markdown",
   "id": "beb3682a-c14c-4cea-a7a8-d5b55e3ff59d",
   "metadata": {},
   "source": [
    "${\\displaystyle f(k;p)=p^{k}(1-p)^{1-k}\\quad {\\text{for }}k\\in \\{0,1\\}}$\n",
    "\n",
    "\n",
    "${\\displaystyle \\operatorname {E} \\left(X\\right)=p}$\n",
    "\n",
    "$\\operatorname {Var} [X]=pq=p(1-p)$"
   ]
  },
  {
   "cell_type": "markdown",
   "id": "f8580195-906a-4adb-8767-0273351854bd",
   "metadata": {},
   "source": [
    "Bernoulli distribution is a discrete probability distribution. It describes the probability of achieving a “success” or “failure” from a Bernoulli trial. A Bernoulli trial is an event that has only two possible outcomes (success or failure)."
   ]
  },
  {
   "cell_type": "code",
   "execution_count": 25,
   "id": "6da60727-569b-459f-9c7b-32f35ef8f761",
   "metadata": {},
   "outputs": [],
   "source": [
    "from scipy.stats import bernoulli"
   ]
  },
  {
   "cell_type": "code",
   "execution_count": 26,
   "id": "460281a0-7d44-4ae9-829f-9091f8a7c898",
   "metadata": {},
   "outputs": [],
   "source": [
    "p = 0.6\n",
    "# Probability of getting heads"
   ]
  },
  {
   "cell_type": "code",
   "execution_count": 27,
   "id": "43e58f84-b216-4665-b96c-78ff300cfbd0",
   "metadata": {},
   "outputs": [
    {
     "data": {
      "text/plain": [
       "0.4"
      ]
     },
     "execution_count": 27,
     "metadata": {},
     "output_type": "execute_result"
    }
   ],
   "source": [
    "rv = bernoulli(p)\n",
    "rv.pmf(k = 0) # Probability of NOT getting heads"
   ]
  },
  {
   "cell_type": "code",
   "execution_count": 28,
   "id": "6e45eb77-b0ac-4fa7-8406-d02a5a7cc4b8",
   "metadata": {},
   "outputs": [
    {
     "data": {
      "text/plain": [
       "0.6"
      ]
     },
     "execution_count": 28,
     "metadata": {},
     "output_type": "execute_result"
    }
   ],
   "source": [
    "rv.pmf(k = 1) # Probability of getting heads"
   ]
  },
  {
   "cell_type": "markdown",
   "id": "9a3dd725-6a2f-4f57-ab38-b9cd327fc983",
   "metadata": {},
   "source": [
    "## Binomal Distribution"
   ]
  },
  {
   "cell_type": "markdown",
   "id": "b57cbafb-79fa-4692-a747-f4c438a1f0a0",
   "metadata": {},
   "source": [
    "${\\displaystyle f(k;n,p)={n \\choose k}p^{k}(1-p)^{n-k}}$, k = 0, 1, 2, ...,n\n",
    "\n",
    "\n",
    "${\\displaystyle \\operatorname {E} (X)=np}$\n",
    "\n",
    "\n",
    "${\\displaystyle \\operatorname {Var} (X)=np(1-p)}$"
   ]
  },
  {
   "cell_type": "markdown",
   "id": "80ef6b53-bdfb-48a9-a480-2c70470086d2",
   "metadata": {},
   "source": [
    "Binomial distribution summarizes the number of trials, or observations when each trial has the same probability of attaining one particular value. Binomial distribution determines the probability of observing a specified number of successful outcomes in a specified number of trials."
   ]
  },
  {
   "cell_type": "markdown",
   "id": "b2f20c3f-fd1b-40f5-a20e-a4e21a351002",
   "metadata": {},
   "source": [
    "### Real Case: \n",
    "It is desired to calculate the click-through rates on advertisements in various media.    \n",
    "The probability of clicking on the ad = 0.01      \n",
    "Q: What is the probability of 1,5, and 10 clicks on the ad when 100 people see it?"
   ]
  },
  {
   "cell_type": "code",
   "execution_count": 29,
   "id": "ad17c538-7cb5-4cd1-b421-96e9f148fde5",
   "metadata": {},
   "outputs": [],
   "source": [
    "from scipy.stats import binom"
   ]
  },
  {
   "cell_type": "code",
   "execution_count": 30,
   "id": "fd42373f-29d8-47af-9f3c-ff4319bd0980",
   "metadata": {},
   "outputs": [
    {
     "name": "stdout",
     "output_type": "stream",
     "text": [
      "0.36972963764972666\n",
      "0.002897787123761478\n",
      "7.006035693977194e-08\n"
     ]
    }
   ],
   "source": [
    "p = 0.01 # Probability of clicking ad.\n",
    "n = 100 # Number of see\n",
    "rv = binom(n, p)\n",
    "print(rv.pmf(1)) # If 1 person would see\n",
    "print(rv.pmf(5)) # If 5 person would see\n",
    "print(rv.pmf(10)) # If 10 person would see"
   ]
  },
  {
   "cell_type": "markdown",
   "id": "0722316d-693e-4588-b01a-db430832e17e",
   "metadata": {},
   "source": [
    "## Poisson Distribution\n",
    "\n",
    "${\\displaystyle f(x,\\lambda )={\\frac {\\lambda ^{x}e^{-\\lambda }}{x!}}\\,\\!}$,  x = 0,1,2,...,n"
   ]
  },
  {
   "cell_type": "markdown",
   "id": "453f4607-4287-4f35-a60d-792db5b6ebfb",
   "metadata": {},
   "source": [
    "Poisson distribution is a probability distribution that is used to show how many times an event is likely to occur over a specified period. In other words, it is a count distribution.\n",
    "n:  Number of observation\n",
    "P: Probability\n",
    "\n",
    "1-) Circumstances which n is high; p is low.    \n",
    "2-) n>50 and n*P < 5     \n",
    "3-) Circumstance should be 2 outcomes.     \n",
    "4-) Circumstance should be same under situation.     \n",
    "5-) 2 Outcomes are independent each other.    "
   ]
  },
  {
   "cell_type": "markdown",
   "id": "eccfb03b-65e5-4045-b5d5-7d6b40acd569",
   "metadata": {},
   "source": [
    "### Real Case:\n",
    "It is desired to calculate the probabilities of incorrect advertisement entries.\n",
    "* Duration of Observation is 1 year.   \n",
    "* Lambda =0.1   \n",
    "Q: What are the probabilities of never mistake, 3 mistakes, and 5 mistakes ?"
   ]
  },
  {
   "cell_type": "code",
   "execution_count": 31,
   "id": "5cc2e09d-4d42-4066-9715-9fa7c0f0d497",
   "metadata": {},
   "outputs": [],
   "source": [
    "from scipy.stats import poisson"
   ]
  },
  {
   "cell_type": "code",
   "execution_count": 32,
   "id": "2c0b9dee-87e0-4ad7-9855-95bca9fc5def",
   "metadata": {},
   "outputs": [],
   "source": [
    "lambda_ = 0.1"
   ]
  },
  {
   "cell_type": "code",
   "execution_count": 33,
   "id": "04b28b7a-a97e-4417-ab93-a6f325d29db1",
   "metadata": {},
   "outputs": [
    {
     "name": "stdout",
     "output_type": "stream",
     "text": [
      "0.9048374180359595\n"
     ]
    }
   ],
   "source": [
    "rv = poisson(mu = lambda_)\n",
    "print(rv.pmf(k = 0)) # Never Mistake"
   ]
  },
  {
   "cell_type": "code",
   "execution_count": 34,
   "id": "75a75755-3875-480b-8c86-76b447561533",
   "metadata": {},
   "outputs": [
    {
     "name": "stdout",
     "output_type": "stream",
     "text": [
      "0.00015080623633932676\n",
      "7.54031181696634e-08\n"
     ]
    }
   ],
   "source": [
    "print(rv.pmf(k = 3)) # 3 Mistakes\n",
    "print(rv.pmf(k = 5)) # 5 Mistakes"
   ]
  },
  {
   "cell_type": "markdown",
   "id": "61c4a517-3d6e-40fc-8800-a0186fff19b5",
   "metadata": {},
   "source": [
    "## B-)Continuous Probability Distributions"
   ]
  },
  {
   "cell_type": "markdown",
   "id": "faeb144c-2942-4bcd-a45e-92248f676896",
   "metadata": {},
   "source": [
    "## Normal Distribution"
   ]
  },
  {
   "cell_type": "markdown",
   "id": "b9077e24-5603-427a-ac44-3ba90b7e734f",
   "metadata": {},
   "source": [
    "${\\displaystyle f(x\\mid \\mu ,\\sigma ^{2})={\\frac {1}{\\sqrt {2\\pi \\sigma ^{2}}}}e^{-{\\frac {(x-\\mu )^{2}}{2\\sigma ^{2}}}}}$\n",
    "\n",
    "* $\\mu$  ortalama ya da dağılımın beklenen değeri\n",
    "\n",
    "* ${\\displaystyle \\sigma }$  standart sapma\n",
    "\n",
    "* ${\\displaystyle \\sigma ^{2}}$ varyans"
   ]
  },
  {
   "cell_type": "markdown",
   "id": "b4d7d481-2eb3-483c-89d8-caa7a49905e7",
   "metadata": {},
   "source": [
    "Symmetric about mean ,showing that data near the mean are more frequent in occurrence than data far from the mean. In many natural processes, random variance conforms to a particular probability distribution known as the normal distribution.\n"
   ]
  },
  {
   "cell_type": "markdown",
   "id": "b736824d-c71a-4fa3-a4cc-a6dd509e0986",
   "metadata": {},
   "source": [
    "### Real Case:\n",
    "It is desired to determine the probabilities that the sales for the next month will occur at certain values.\n",
    "* Mean: 80 000\n",
    "* Stv : 5000     \n",
    "Q: What is the probability of saling more than 90000 ??"
   ]
  },
  {
   "cell_type": "code",
   "execution_count": 35,
   "id": "5aa95648-deee-4720-bb92-11d38e6df4b9",
   "metadata": {},
   "outputs": [],
   "source": [
    "from scipy.stats import norm"
   ]
  },
  {
   "cell_type": "code",
   "execution_count": 36,
   "id": "18bc3009-0e95-47a8-b88c-03bc10520d2a",
   "metadata": {},
   "outputs": [
    {
     "data": {
      "text/plain": [
       "0.02275013194817921"
      ]
     },
     "execution_count": 36,
     "metadata": {},
     "output_type": "execute_result"
    }
   ],
   "source": [
    "#More than from 90K\n",
    "1-norm.cdf(90, 80, 5)\n",
    "#The reason for subtracting it from 1 is that it is required to have the extra part."
   ]
  },
  {
   "cell_type": "code",
   "execution_count": 37,
   "id": "2650d76c-f17f-48b1-9cd4-d52162d74cb9",
   "metadata": {},
   "outputs": [
    {
     "data": {
      "text/plain": [
       "0.9772498680518208"
      ]
     },
     "execution_count": 37,
     "metadata": {},
     "output_type": "execute_result"
    }
   ],
   "source": [
    "#More than from 70K\n",
    "1-norm.cdf(70, 80, 5)\n",
    "#The reason for subtracting it from 1 is that it is required to have the extra part."
   ]
  },
  {
   "cell_type": "code",
   "execution_count": 38,
   "id": "c444beb5-3c35-4946-abe0-3293489b622f",
   "metadata": {},
   "outputs": [
    {
     "data": {
      "text/plain": [
       "0.08075665923377107"
      ]
     },
     "execution_count": 38,
     "metadata": {},
     "output_type": "execute_result"
    }
   ],
   "source": [
    "#Less than from 73k\n",
    "norm.cdf(73, 80, 5)"
   ]
  },
  {
   "cell_type": "code",
   "execution_count": 39,
   "id": "57149cc9-8b88-4ae8-a5a5-b09e15568ab0",
   "metadata": {},
   "outputs": [
    {
     "data": {
      "text/plain": [
       "0.13590512198327787"
      ]
     },
     "execution_count": 39,
     "metadata": {},
     "output_type": "execute_result"
    }
   ],
   "source": [
    "#Between 90k and 85k\n",
    "norm.cdf(90, 80, 5) - norm.cdf(85, 80, 5)"
   ]
  },
  {
   "cell_type": "code",
   "execution_count": null,
   "id": "ad1a2fac-e268-40f4-94fc-b1ca76994bfd",
   "metadata": {},
   "outputs": [],
   "source": []
  }
 ],
 "metadata": {
  "kernelspec": {
   "display_name": "Python 3 (ipykernel)",
   "language": "python",
   "name": "python3"
  },
  "language_info": {
   "codemirror_mode": {
    "name": "ipython",
    "version": 3
   },
   "file_extension": ".py",
   "mimetype": "text/x-python",
   "name": "python",
   "nbconvert_exporter": "python",
   "pygments_lexer": "ipython3",
   "version": "3.9.13"
  }
 },
 "nbformat": 4,
 "nbformat_minor": 5
}
