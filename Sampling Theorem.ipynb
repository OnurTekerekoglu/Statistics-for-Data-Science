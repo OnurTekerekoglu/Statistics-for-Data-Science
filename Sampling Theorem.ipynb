{
 "cells": [
  {
   "cell_type": "markdown",
   "id": "febe4703-2ec1-441d-8683-1ee9b68cddda",
   "metadata": {},
   "source": [
    "# Sampling Theorem\n",
    "    Parameters of the population are estimated from the sample drawn from the population."
   ]
  },
  {
   "cell_type": "code",
   "execution_count": 2,
   "id": "f62c6050-044e-4ed3-9890-c13e9d7b06e9",
   "metadata": {},
   "outputs": [],
   "source": [
    "import numpy as np"
   ]
  },
  {
   "cell_type": "code",
   "execution_count": 3,
   "id": "ffc98995-542d-4a0c-9493-1f79e5231dd7",
   "metadata": {},
   "outputs": [],
   "source": [
    "population = np.random.randint(0, 80, 10000)"
   ]
  },
  {
   "cell_type": "code",
   "execution_count": 4,
   "id": "6c56c3f7-3bdf-4053-a3a3-e03395850daa",
   "metadata": {},
   "outputs": [
    {
     "data": {
      "text/plain": [
       "array([77, 28, 44, 22, 66, 42,  4, 12, 67,  5])"
      ]
     },
     "execution_count": 4,
     "metadata": {},
     "output_type": "execute_result"
    }
   ],
   "source": [
    "population[0:10]"
   ]
  },
  {
   "cell_type": "code",
   "execution_count": 6,
   "id": "39146f33-51c4-4dc1-a399-d03e5b9baf21",
   "metadata": {},
   "outputs": [
    {
     "data": {
      "text/plain": [
       "array([17, 40, 25, 51, 70,  4, 38, 57, 77, 22])"
      ]
     },
     "execution_count": 6,
     "metadata": {},
     "output_type": "execute_result"
    }
   ],
   "source": [
    "#Taking sample\n",
    "np.random.seed(115)\n",
    "sample = np.random.choice(a = population, size = 100)\n",
    "sample[0:10]"
   ]
  },
  {
   "cell_type": "code",
   "execution_count": 7,
   "id": "4044f975-b248-40a3-8e33-089afb8d11f6",
   "metadata": {},
   "outputs": [
    {
     "data": {
      "text/plain": [
       "45.46"
      ]
     },
     "execution_count": 7,
     "metadata": {},
     "output_type": "execute_result"
    }
   ],
   "source": [
    "sample.mean()"
   ]
  },
  {
   "cell_type": "code",
   "execution_count": 8,
   "id": "3a9f01f4-a789-49dc-8f10-83fa4f3e5953",
   "metadata": {},
   "outputs": [
    {
     "data": {
      "text/plain": [
       "39.33"
      ]
     },
     "execution_count": 8,
     "metadata": {},
     "output_type": "execute_result"
    }
   ],
   "source": [
    "population.mean()"
   ]
  },
  {
   "cell_type": "code",
   "execution_count": 9,
   "id": "8c784e11-bd4f-4b87-b90b-2008126bc2fb",
   "metadata": {},
   "outputs": [],
   "source": [
    "#Sample distribution\n",
    "\n",
    "np.random.seed(10)\n",
    "Sample1 = np.random.choice(a = population, size = 100)\n",
    "Sample2 = np.random.choice(a = population, size = 100)\n",
    "Sample3 = np.random.choice(a = population, size = 100)\n",
    "Sample4 = np.random.choice(a = population, size = 100)\n",
    "Sample5 = np.random.choice(a = population, size = 100)\n",
    "Sample6 = np.random.choice(a = population, size = 100)\n",
    "Sample7 = np.random.choice(a = population, size = 100)\n",
    "Sample8 = np.random.choice(a = population, size = 100)\n",
    "Sample9 = np.random.choice(a = population, size = 100)\n",
    "Sample10 = np.random.choice(a = population, size = 100)"
   ]
  },
  {
   "cell_type": "code",
   "execution_count": 10,
   "id": "0df192fd-ac66-4e56-a90a-b72cb65c8580",
   "metadata": {},
   "outputs": [
    {
     "data": {
      "text/plain": [
       "38.674"
      ]
     },
     "execution_count": 10,
     "metadata": {},
     "output_type": "execute_result"
    }
   ],
   "source": [
    "(Sample1.mean() + Sample2.mean() + Sample3.mean() + Sample4.mean() + Sample5.mean() \n",
    "+ Sample6.mean() + Sample7.mean() + Sample8.mean() + Sample9.mean() + Sample10.mean() )  / 10"
   ]
  },
  {
   "cell_type": "code",
   "execution_count": 11,
   "id": "3bfa488b-42fd-4c85-9ac3-2ab52067625d",
   "metadata": {},
   "outputs": [
    {
     "data": {
      "text/plain": [
       "41.74"
      ]
     },
     "execution_count": 11,
     "metadata": {},
     "output_type": "execute_result"
    }
   ],
   "source": [
    "Sample1.mean()"
   ]
  },
  {
   "cell_type": "code",
   "execution_count": 12,
   "id": "4f240d50-8ec8-47e2-af78-c80c05ab78f4",
   "metadata": {},
   "outputs": [
    {
     "data": {
      "text/plain": [
       "37.08"
      ]
     },
     "execution_count": 12,
     "metadata": {},
     "output_type": "execute_result"
    }
   ],
   "source": [
    "Sample4.mean()"
   ]
  },
  {
   "cell_type": "markdown",
   "id": "5f3718dc-5693-4399-b688-7c18794a02d0",
   "metadata": {},
   "source": [
    "# Conlusion\n",
    "Results of Samples can be taken as results of populations. Because they could indicate population. In addition, In real life, it could be hard in order to applied Statistics to all populations."
   ]
  },
  {
   "cell_type": "code",
   "execution_count": null,
   "id": "8707d1ae-ff04-44fd-a343-676b1b375ec9",
   "metadata": {},
   "outputs": [],
   "source": []
  }
 ],
 "metadata": {
  "kernelspec": {
   "display_name": "Python 3 (ipykernel)",
   "language": "python",
   "name": "python3"
  },
  "language_info": {
   "codemirror_mode": {
    "name": "ipython",
    "version": 3
   },
   "file_extension": ".py",
   "mimetype": "text/x-python",
   "name": "python",
   "nbconvert_exporter": "python",
   "pygments_lexer": "ipython3",
   "version": "3.9.13"
  }
 },
 "nbformat": 4,
 "nbformat_minor": 5
}
