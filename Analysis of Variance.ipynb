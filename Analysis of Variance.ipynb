{
 "cells": [
  {
   "cell_type": "markdown",
   "id": "9cbccbcf-1be1-4945-942c-98e17305d3e6",
   "metadata": {},
   "source": [
    "# Analysis of Variance"
   ]
  },
  {
   "cell_type": "markdown",
   "id": "ef919a93-2cb9-4762-9945-d8118571c2ad",
   "metadata": {},
   "source": [
    "Analysis of Variance (ANOVA) is a statistical formula used to compare variances across the means (or average) of different groups"
   ]
  },
  {
   "cell_type": "markdown",
   "id": "3fd5cd09-d94c-49fa-8c8b-2ce588e5ea20",
   "metadata": {},
   "source": [
    "Hnull → µ1 = µ2 = µ3 = µ4    \n",
    "\n",
    "Halternative → Hnull is not true.   "
   ]
  },
  {
   "cell_type": "markdown",
   "id": "66c8921c-6ecf-4e1f-8e71-1454abacd6be",
   "metadata": {},
   "source": [
    " ***Assumptions***      \n",
    " 1.Observations are independent of each other.   \n",
    " 2.Normal distribution   \n",
    " 3.Variance homogeneity"
   ]
  },
  {
   "cell_type": "markdown",
   "id": "a833fab7-6d41-4d5f-babf-d5f9eedfab2e",
   "metadata": {},
   "source": [
    "### Real Case:\n",
    "The time spent on the website is requested to be increased.\n",
    "* Same news are arranged different formats in order to be observed.\n",
    "A: Natural Format\n",
    "B: Directive Format\n",
    "C: Attractive Format"
   ]
  },
  {
   "cell_type": "markdown",
   "id": "140257cb-7576-49f6-bfaa-f6e4f0f2f1c1",
   "metadata": {},
   "source": [
    "#### Step 1: \n",
    "H0: M1 = M2 = M3 (grup ortalamalari arasinda ist anl. farklilik yoktur) \n",
    "\n",
    "H1: Fark vardir."
   ]
  },
  {
   "cell_type": "markdown",
   "id": "968f8746-3d8a-4480-9662-63053833b5da",
   "metadata": {},
   "source": [
    "### Step 2:"
   ]
  },
  {
   "cell_type": "code",
   "execution_count": 2,
   "id": "54050486-63d3-4ce0-9495-66ec96a6597f",
   "metadata": {},
   "outputs": [
    {
     "data": {
      "text/html": [
       "<div>\n",
       "<style scoped>\n",
       "    .dataframe tbody tr th:only-of-type {\n",
       "        vertical-align: middle;\n",
       "    }\n",
       "\n",
       "    .dataframe tbody tr th {\n",
       "        vertical-align: top;\n",
       "    }\n",
       "\n",
       "    .dataframe thead th {\n",
       "        text-align: right;\n",
       "    }\n",
       "</style>\n",
       "<table border=\"1\" class=\"dataframe\">\n",
       "  <thead>\n",
       "    <tr style=\"text-align: right;\">\n",
       "      <th></th>\n",
       "      <th>GROUP_A</th>\n",
       "      <th>GROUP_B</th>\n",
       "      <th>GROUP_C</th>\n",
       "    </tr>\n",
       "  </thead>\n",
       "  <tbody>\n",
       "    <tr>\n",
       "      <th>0</th>\n",
       "      <td>28</td>\n",
       "      <td>31</td>\n",
       "      <td>40</td>\n",
       "    </tr>\n",
       "    <tr>\n",
       "      <th>1</th>\n",
       "      <td>33</td>\n",
       "      <td>32</td>\n",
       "      <td>33</td>\n",
       "    </tr>\n",
       "    <tr>\n",
       "      <th>2</th>\n",
       "      <td>30</td>\n",
       "      <td>30</td>\n",
       "      <td>38</td>\n",
       "    </tr>\n",
       "    <tr>\n",
       "      <th>3</th>\n",
       "      <td>29</td>\n",
       "      <td>30</td>\n",
       "      <td>41</td>\n",
       "    </tr>\n",
       "    <tr>\n",
       "      <th>4</th>\n",
       "      <td>28</td>\n",
       "      <td>33</td>\n",
       "      <td>42</td>\n",
       "    </tr>\n",
       "  </tbody>\n",
       "</table>\n",
       "</div>"
      ],
      "text/plain": [
       "   GROUP_A  GROUP_B  GROUP_C\n",
       "0       28       31       40\n",
       "1       33       32       33\n",
       "2       30       30       38\n",
       "3       29       30       41\n",
       "4       28       33       42"
      ]
     },
     "execution_count": 2,
     "metadata": {},
     "output_type": "execute_result"
    }
   ],
   "source": [
    "import pandas as pd\n",
    "A = pd.DataFrame([28,33,30,29,28,29,27,31,30,32,28,33,25,29,27,31,31,30,31,34,30,32,31,34,28,32,31,28,33,29])\n",
    "\n",
    "B = pd.DataFrame([31,32,30,30,33,32,34,27,36,30,31,30,38,29,30,34,34,31,35,35,33,30,28,29,26,37,31,28,34,33])\n",
    "\n",
    "C = pd.DataFrame([40,33,38,41,42,43,38,35,39,39,36,34,35,40,38,36,39,36,33,35,38,35,40,40,39,38,38,43,40,42])\n",
    "\n",
    "dfs = [A, B, C]\n",
    "\n",
    "ABC = pd.concat(dfs, axis = 1)\n",
    "ABC.columns = [\"GROUP_A\",\"GROUP_B\",\"GROUP_C\"]\n",
    "ABC.head()"
   ]
  },
  {
   "cell_type": "markdown",
   "id": "f9dbe05e-8edb-4df7-94e0-f8d9d829131d",
   "metadata": {},
   "source": [
    "### Step 3: Assumption Control"
   ]
  },
  {
   "cell_type": "markdown",
   "id": "c820d1af-bf25-437e-825c-19daa4f75276",
   "metadata": {},
   "source": [
    "Ho: There is no difference between the sample distribution and the theoretical distribution.\n",
    "\n",
    "H1: There is a difference between the sample distribution and the theoretical distribution"
   ]
  },
  {
   "cell_type": "code",
   "execution_count": 23,
   "id": "54c8bf51-20e2-4994-82d2-a6f34af2d59f",
   "metadata": {},
   "outputs": [],
   "source": [
    "from scipy.stats import shapiro\n",
    "import scipy.stats as stats"
   ]
  },
  {
   "cell_type": "markdown",
   "id": "28a4c039-9162-488b-b3dd-de77d86d7b26",
   "metadata": {},
   "source": [
    "#### 1-)Normal\n",
    "#### Sharpio-Milk Test"
   ]
  },
  {
   "cell_type": "code",
   "execution_count": 24,
   "id": "cbd201ec-de30-4690-9790-9d0016dcc0b1",
   "metadata": {},
   "outputs": [
    {
     "data": {
      "text/plain": [
       "ShapiroResult(statistic=0.969743013381958, pvalue=0.5321670174598694)"
      ]
     },
     "execution_count": 24,
     "metadata": {},
     "output_type": "execute_result"
    }
   ],
   "source": [
    "shapiro(ABC[\"GROUP_A\"])"
   ]
  },
  {
   "cell_type": "code",
   "execution_count": 25,
   "id": "c34e0821-8944-41e8-86a4-67795b5499b5",
   "metadata": {},
   "outputs": [
    {
     "data": {
      "text/plain": [
       "ShapiroResult(statistic=0.9789853096008301, pvalue=0.7979751229286194)"
      ]
     },
     "execution_count": 25,
     "metadata": {},
     "output_type": "execute_result"
    }
   ],
   "source": [
    "shapiro(ABC[\"GROUP_B\"])"
   ]
  },
  {
   "cell_type": "code",
   "execution_count": 26,
   "id": "53b027c8-f989-405f-887f-e30b7a85b1b6",
   "metadata": {},
   "outputs": [
    {
     "data": {
      "text/plain": [
       "ShapiroResult(statistic=0.9579201340675354, pvalue=0.273820161819458)"
      ]
     },
     "execution_count": 26,
     "metadata": {},
     "output_type": "execute_result"
    }
   ],
   "source": [
    "shapiro(ABC[\"GROUP_C\"])"
   ]
  },
  {
   "cell_type": "markdown",
   "id": "d5e15c95-0327-4203-a12d-67af4d47bc0d",
   "metadata": {},
   "source": [
    "P values are higher than Alpha. Therefore, Ho is not rejected."
   ]
  },
  {
   "cell_type": "markdown",
   "id": "1cb6108a-8c44-4fc6-bc03-3cfd0fa1213b",
   "metadata": {},
   "source": [
    "#### 2-)Variance Homogeneity\n",
    "#### Levene"
   ]
  },
  {
   "cell_type": "code",
   "execution_count": 22,
   "id": "ab534fbd-e803-48c7-b18c-26f2922a5b20",
   "metadata": {},
   "outputs": [
    {
     "data": {
      "text/plain": [
       "LeveneResult(statistic=1.0267403645055275, pvalue=0.36247110117417064)"
      ]
     },
     "execution_count": 22,
     "metadata": {},
     "output_type": "execute_result"
    }
   ],
   "source": [
    "stats.levene(ABC[\"GROUP_A\"], ABC[\"GROUP_B\"],ABC[\"GROUP_C\"])"
   ]
  },
  {
   "cell_type": "markdown",
   "id": "924c321d-55f7-460c-b347-ba8da09f439f",
   "metadata": {},
   "source": [
    "P values are higher than Alpha. Therefore, Ho is not rejected."
   ]
  },
  {
   "cell_type": "markdown",
   "id": "a5b758eb-3814-4420-ba18-f96557a44baf",
   "metadata": {},
   "source": [
    "We can continue with Hypothesis test rather than Nonparametrik Hipotez Testi."
   ]
  },
  {
   "cell_type": "markdown",
   "id": "030f9a20-2214-4c87-9d9f-133328b6e332",
   "metadata": {},
   "source": [
    "### Step 4: Hypothesis Tests"
   ]
  },
  {
   "cell_type": "code",
   "execution_count": 13,
   "id": "15bb365c-6df2-401d-93b3-b259bfb2e6e3",
   "metadata": {},
   "outputs": [
    {
     "data": {
      "text/plain": [
       "F_onewayResult(statistic=74.69278140730431, pvalue=1.3079050746811477e-19)"
      ]
     },
     "execution_count": 13,
     "metadata": {},
     "output_type": "execute_result"
    }
   ],
   "source": [
    "from scipy.stats import f_oneway\n",
    "f_oneway(ABC[\"GROUP_A\"], ABC[\"GROUP_B\"],ABC[\"GROUP_C\"])"
   ]
  },
  {
   "cell_type": "markdown",
   "id": "06ec2c73-a2e0-48ac-b37d-723c4de1484f",
   "metadata": {},
   "source": [
    "P value is lower than Alpha. Therefore, Ho is rejected. This means that all kind of news are different from each others."
   ]
  },
  {
   "cell_type": "code",
   "execution_count": 29,
   "id": "e351db05-616f-47b5-a71b-70e3d26864b6",
   "metadata": {},
   "outputs": [
    {
     "data": {
      "text/html": [
       "<div>\n",
       "<style scoped>\n",
       "    .dataframe tbody tr th:only-of-type {\n",
       "        vertical-align: middle;\n",
       "    }\n",
       "\n",
       "    .dataframe tbody tr th {\n",
       "        vertical-align: top;\n",
       "    }\n",
       "\n",
       "    .dataframe thead th {\n",
       "        text-align: right;\n",
       "    }\n",
       "</style>\n",
       "<table border=\"1\" class=\"dataframe\">\n",
       "  <thead>\n",
       "    <tr style=\"text-align: right;\">\n",
       "      <th></th>\n",
       "      <th>count</th>\n",
       "      <th>mean</th>\n",
       "      <th>std</th>\n",
       "      <th>min</th>\n",
       "      <th>25%</th>\n",
       "      <th>50%</th>\n",
       "      <th>75%</th>\n",
       "      <th>max</th>\n",
       "    </tr>\n",
       "  </thead>\n",
       "  <tbody>\n",
       "    <tr>\n",
       "      <th>GROUP_A</th>\n",
       "      <td>30.0</td>\n",
       "      <td>30.133333</td>\n",
       "      <td>2.224214</td>\n",
       "      <td>25.0</td>\n",
       "      <td>28.25</td>\n",
       "      <td>30.0</td>\n",
       "      <td>31.75</td>\n",
       "      <td>34.0</td>\n",
       "    </tr>\n",
       "    <tr>\n",
       "      <th>GROUP_B</th>\n",
       "      <td>30.0</td>\n",
       "      <td>31.700000</td>\n",
       "      <td>2.937862</td>\n",
       "      <td>26.0</td>\n",
       "      <td>30.00</td>\n",
       "      <td>31.0</td>\n",
       "      <td>34.00</td>\n",
       "      <td>38.0</td>\n",
       "    </tr>\n",
       "    <tr>\n",
       "      <th>GROUP_C</th>\n",
       "      <td>30.0</td>\n",
       "      <td>38.100000</td>\n",
       "      <td>2.808239</td>\n",
       "      <td>33.0</td>\n",
       "      <td>36.00</td>\n",
       "      <td>38.0</td>\n",
       "      <td>40.00</td>\n",
       "      <td>43.0</td>\n",
       "    </tr>\n",
       "  </tbody>\n",
       "</table>\n",
       "</div>"
      ],
      "text/plain": [
       "         count       mean       std   min    25%   50%    75%   max\n",
       "GROUP_A   30.0  30.133333  2.224214  25.0  28.25  30.0  31.75  34.0\n",
       "GROUP_B   30.0  31.700000  2.937862  26.0  30.00  31.0  34.00  38.0\n",
       "GROUP_C   30.0  38.100000  2.808239  33.0  36.00  38.0  40.00  43.0"
      ]
     },
     "execution_count": 29,
     "metadata": {},
     "output_type": "execute_result"
    }
   ],
   "source": [
    "ABC.describe().T"
   ]
  },
  {
   "cell_type": "markdown",
   "id": "bd7530bd-64ac-4b14-ac55-813e23ff9c2e",
   "metadata": {},
   "source": [
    "Group C is the highest effective way for web site. Because it has the highest mean."
   ]
  },
  {
   "cell_type": "markdown",
   "id": "56eccb61-7f9a-4702-a704-795ce9662d64",
   "metadata": {},
   "source": [
    "### Nonparametric Dependent Two-Sample Test"
   ]
  },
  {
   "cell_type": "code",
   "execution_count": 30,
   "id": "804d6d8b-7dde-4508-aa20-15ae1fbe1cd6",
   "metadata": {},
   "outputs": [
    {
     "data": {
      "text/plain": [
       "KruskalResult(statistic=54.19819735523783, pvalue=1.7022015426175926e-12)"
      ]
     },
     "execution_count": 30,
     "metadata": {},
     "output_type": "execute_result"
    }
   ],
   "source": [
    "from scipy.stats import kruskal\n",
    "kruskal(ABC[\"GROUP_A\"], ABC[\"GROUP_B\"],ABC[\"GROUP_C\"])"
   ]
  },
  {
   "cell_type": "code",
   "execution_count": null,
   "id": "3d3cf375-8dff-4a93-80ad-5499db574974",
   "metadata": {},
   "outputs": [],
   "source": []
  },
  {
   "cell_type": "code",
   "execution_count": null,
   "id": "6e053276-82e9-4f48-85bc-536241695005",
   "metadata": {},
   "outputs": [],
   "source": []
  }
 ],
 "metadata": {
  "kernelspec": {
   "display_name": "Python 3 (ipykernel)",
   "language": "python",
   "name": "python3"
  },
  "language_info": {
   "codemirror_mode": {
    "name": "ipython",
    "version": 3
   },
   "file_extension": ".py",
   "mimetype": "text/x-python",
   "name": "python",
   "nbconvert_exporter": "python",
   "pygments_lexer": "ipython3",
   "version": "3.9.13"
  }
 },
 "nbformat": 4,
 "nbformat_minor": 5
}
