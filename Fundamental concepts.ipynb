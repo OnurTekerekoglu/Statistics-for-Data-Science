{
 "cells": [
  {
   "cell_type": "markdown",
   "id": "0f2fd061-c27a-4398-a0c0-f78ba5e7136f",
   "metadata": {},
   "source": [
    "# Fundamental Concepts\n"
   ]
  },
  {
   "cell_type": "markdown",
   "id": "010e8883-f871-482c-8b3d-e9cf181b4ca1",
   "metadata": {},
   "source": [
    "#### Arithmetic Mean :\n",
    "Sum of all the values divided by the number of values\n",
    "\n",
    "#### Median :\n",
    "Median is the middle number in a sorted list of numbers. The median is sometimes used as opposed to the mean when there are outliers in the sequence that might skew the average of the values. The median of a sequence can be less affected by outliers than the mean.\n",
    "\n",
    "+++++ The closeness of the mean to the median indicates that the data set we have is homogeneously distributed. So the values are close to each other. \n",
    "\n",
    "#### Mode :\n",
    "The mode is the value that appears most frequently in a data set.\n",
    "\n",
    "#### Quartiles :\n",
    "A quartile is a statistical term that describes a division of observations into four defined intervals based on the values of the data and how they compare to the entire set of observations.\n",
    "\n",
    "\n",
    "#### Range :\n",
    "Max value - Min Value\n",
    "\n",
    "+++++ If range would be small, It can be said that values of data set are close each others.\n",
    "\n",
    "#### Standard Deviation :\n",
    "A measure of how dispersed the data is in relation to the mean.\n",
    "\n",
    "+++++ Low standard deviation means data are clustered around the mean, and high standard deviation indicates data are more spread out.\n",
    "\n",
    "#### Variance :\n",
    "Square of Standard Deviation.\n",
    "\n",
    "+++++ If the data is clustered around the mean, the variance will be low. If the data is distributed far from the mean, the variance will be high.\n",
    "\n",
    "#### Skewness :\n",
    "A measure of the asymmetry of a distribution.\n",
    "\n",
    "++++ If skewness is less than −1 or greater than +1, the distribution is highly skewed. If skewness is between −1 and − 0.5 or between +0.5 and +1, the distribution is moderately skewed.\n",
    "\n",
    "#### Kurtosis :\n",
    "A measure of the tailedness of a distribution. Tailedness is how often outliers occur.\n",
    "\n",
    "+++++ Data sets with high kurtosis tend to have heavy tails, or outliers. Data sets with low kurtosis tend to have light tails, or lack of outliers.\n",
    "\n",
    "\n",
    "#### Covariance :\n",
    "Covariance provides insight into how two variables are related to one another. More precisely, covariance refers to the measure of how two random variables in a data set will change together. \n",
    "\n",
    "+++++ A positive covariance means that the two variables at hand are positively related, and they move in the same direction\n",
    "\n",
    "#### Correlation :\n",
    "It expresses whether the relationship between two variables is significant, the intensity and direction of the relationship.\n",
    "\n",
    "#### Confidence interval :\n",
    "One way to represent how \"good\" an estimate is; the larger a 90% confidence interval for a particular estimate, the more caution is required when using the estimate. Confidence intervals are an important reminder of the limitations of the estimates"
   ]
  },
  {
   "cell_type": "code",
   "execution_count": null,
   "id": "d874d43c-f3d5-49bc-865c-9d3ac5f46f5f",
   "metadata": {},
   "outputs": [],
   "source": []
  }
 ],
 "metadata": {
  "kernelspec": {
   "display_name": "Python 3 (ipykernel)",
   "language": "python",
   "name": "python3"
  },
  "language_info": {
   "codemirror_mode": {
    "name": "ipython",
    "version": 3
   },
   "file_extension": ".py",
   "mimetype": "text/x-python",
   "name": "python",
   "nbconvert_exporter": "python",
   "pygments_lexer": "ipython3",
   "version": "3.9.13"
  }
 },
 "nbformat": 4,
 "nbformat_minor": 5
}
